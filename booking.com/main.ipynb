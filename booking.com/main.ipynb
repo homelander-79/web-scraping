{
 "cells": [
  {
   "cell_type": "code",
   "execution_count": 1,
   "metadata": {},
   "outputs": [],
   "source": [
    "from selenium import webdriver\n",
    "from selenium.webdriver.common.by import By\n",
    "from selenium.webdriver.support.ui import WebDriverWait\n",
    "from selenium.webdriver.support import expected_conditions as EC\n",
    "import os"
   ]
  },
  {
   "cell_type": "code",
   "execution_count": 4,
   "metadata": {},
   "outputs": [],
   "source": [
    "from selenium.webdriver.common.by import By"
   ]
  },
  {
   "cell_type": "code",
   "execution_count": 2,
   "metadata": {},
   "outputs": [],
   "source": [
    "os.environ['PATH']+= r'C:\\Users\\moah\\Desktop\\web-scraping\\selenium'"
   ]
  },
  {
   "cell_type": "code",
   "execution_count": 3,
   "metadata": {},
   "outputs": [
    {
     "name": "stderr",
     "output_type": "stream",
     "text": [
      "The chromedriver version (126.0.6478.182) detected in PATH at .\\chromedriver.exe might not be compatible with the detected chrome version (127.0.6533.72); currently, chromedriver 127.0.6533.72 is recommended for chrome 127.*, so it is advised to delete the driver in PATH and retry\n"
     ]
    }
   ],
   "source": [
    "driver= webdriver.Chrome()\n",
    "driver.get('https://www.booking.com/searchresults.en-gb.html?ss=New+York&ssne=New+York&ssne_untouched=New+York&label=gen173nr-1BCAEoggI46AdIM1gEaDuIAQGYAQm4ARjIAQzYAQHoAQGIAgGoAgS4AoPHlLUGwAIB0gIkNDg3YjRkYzctNjI4NC00MGJjLWI1NzItYzJjNDcyNjVjMTYx2AIF4AIB&sid=dc77d9155746eed21e73f7b7567bd231&aid=304142&lang=en-gb&sb=1&src_elem=sb&src=index&dest_id=20088325&dest_type=city&checkin=2024-07-27&checkout=2024-08-21&group_adults=7&no_rooms=1&group_children=0')\n",
    "driver.implicitly_wait(30)"
   ]
  },
  {
   "cell_type": "code",
   "execution_count": 5,
   "metadata": {},
   "outputs": [
    {
     "data": {
      "text/plain": [
       "<selenium.webdriver.remote.webelement.WebElement (session=\"38d3f91030b06fd2a7445d903366aa30\", element=\"f.EBDBFC975495C41A74A67A2826C8446F.d.086EB24750C4844667354D7456290C74.e.484\")>"
      ]
     },
     "execution_count": 5,
     "metadata": {},
     "output_type": "execute_result"
    }
   ],
   "source": [
    "driver.find_element(By.ID,'filter_group_class_:r2b:')"
   ]
  },
  {
   "cell_type": "code",
   "execution_count": null,
   "metadata": {},
   "outputs": [],
   "source": [
    "button= driver.find_element(By.ID,'downloadButton')\n",
    "button.click()"
   ]
  },
  {
   "cell_type": "code",
   "execution_count": 21,
   "metadata": {},
   "outputs": [
    {
     "name": "stdout",
     "output_type": "stream",
     "text": [
      "Starting download...\n"
     ]
    }
   ],
   "source": [
    "WebDriverWait(driver,30).until(EC.text_to_be_present_in_element((By.CLASS_NAME,'progress-label'),'Complete!'))\n"
   ]
  }
 ],
 "metadata": {
  "kernelspec": {
   "display_name": "Python 3",
   "language": "python",
   "name": "python3"
  },
  "language_info": {
   "codemirror_mode": {
    "name": "ipython",
    "version": 3
   },
   "file_extension": ".py",
   "mimetype": "text/x-python",
   "name": "python",
   "nbconvert_exporter": "python",
   "pygments_lexer": "ipython3",
   "version": "3.11.5"
  }
 },
 "nbformat": 4,
 "nbformat_minor": 2
}
