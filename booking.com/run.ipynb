{
 "cells": [
  {
   "cell_type": "code",
   "execution_count": 19,
   "metadata": {},
   "outputs": [],
   "source": [
    "from booking.booking import Booking\n",
    "from time import sleep"
   ]
  },
  {
   "cell_type": "code",
   "execution_count": 20,
   "metadata": {},
   "outputs": [
    {
     "name": "stderr",
     "output_type": "stream",
     "text": [
      "The chromedriver version (126.0.6478.182) detected in PATH at .\\chromedriver.exe might not be compatible with the detected chrome version (127.0.6533.72); currently, chromedriver 127.0.6533.72 is recommended for chrome 127.*, so it is advised to delete the driver in PATH and retry\n"
     ]
    }
   ],
   "source": [
    "bot= Booking()\n",
    "bot.land_first_page()\n",
    "bot.selecte_palce_to_go('NEW YORK')\n",
    "\n",
    "sleep(2)\n",
    "\n",
    "bot.selecte_date('2024-07-27','2024-08-28')\n",
    "bot.selecte_adualt(6)\n",
    "bot.click_serach()\n"
   ]
  },
  {
   "cell_type": "code",
   "execution_count": 22,
   "metadata": {},
   "outputs": [
    {
     "name": "stdout",
     "output_type": "stream",
     "text": [
      "error\n",
      " 'str' object is not callable\n"
     ]
    }
   ],
   "source": [
    "bot.booking_filtration()"
   ]
  },
  {
   "cell_type": "code",
   "execution_count": null,
   "metadata": {},
   "outputs": [],
   "source": [
    "bot.change_currency(currency='USD')\n",
    "bot.selecte_palce_to_go('NEW YORK')\n",
    "bot.selecte_date('2024-07-27','2024-08-28')"
   ]
  }
 ],
 "metadata": {
  "kernelspec": {
   "display_name": "base",
   "language": "python",
   "name": "python3"
  },
  "language_info": {
   "codemirror_mode": {
    "name": "ipython",
    "version": 3
   },
   "file_extension": ".py",
   "mimetype": "text/x-python",
   "name": "python",
   "nbconvert_exporter": "python",
   "pygments_lexer": "ipython3",
   "version": "3.11.5"
  }
 },
 "nbformat": 4,
 "nbformat_minor": 2
}
