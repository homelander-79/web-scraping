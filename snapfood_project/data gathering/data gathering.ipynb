{
 "cells": [
  {
   "cell_type": "markdown",
   "metadata": {},
   "source": [
    "# Import essential libraries"
   ]
  },
  {
   "cell_type": "code",
   "execution_count": 1,
   "metadata": {
    "dotnet_interactive": {
     "language": "csharp"
    },
    "polyglot_notebook": {
     "kernelName": "csharp"
    }
   },
   "outputs": [],
   "source": [
    "import time\n",
    "from selenium import webdriver\n",
    "from selenium.webdriver.common.by import By\n",
    "from selenium.webdriver.chrome.service import Service\n",
    "from selenium.webdriver.support.ui import WebDriverWait\n",
    "from selenium.webdriver.support import expected_conditions as EC\n",
    "from webdriver_manager.chrome import ChromeDriverManager\n",
    "from selenium.webdriver.chrome.options import Options\n",
    "from selenium.webdriver import ActionChains\n",
    "from bs4 import BeautifulSoup\n",
    "\n",
    "import pandas as pd\n",
    "import numpy as np"
   ]
  },
  {
   "cell_type": "code",
   "execution_count": 4,
   "metadata": {},
   "outputs": [],
   "source": [
    "options = Options()\n",
    "options.headless = True \n",
    "custom_user_agent = \"Mozilla/5.0 (Macintosh; Intel Mac OS X 10_15_7) AppleWebKit/537.36 (KHTML, like Gecko) Chrome/91.0.4472.124 Safari/537.36\"\n",
    "options = Options()"
   ]
  },
  {
   "cell_type": "markdown",
   "metadata": {},
   "source": [
    "# Get main page data"
   ]
  },
  {
   "cell_type": "code",
   "execution_count": 6,
   "metadata": {},
   "outputs": [],
   "source": [
    "driver = webdriver.Chrome(service=Service(ChromeDriverManager().install()), options=options)\n",
    "\n",
    "driver.get(\"https://snappfood.ir/service/all/city/rafsanjan?page=0\")\n",
    "WebDriverWait(driver,15)\n",
    "page_source = driver.page_source\n",
    "soup = BeautifulSoup(page_source, 'html.parser')\n",
    "driver.close()"
   ]
  },
  {
   "cell_type": "code",
   "execution_count": 7,
   "metadata": {},
   "outputs": [],
   "source": [
    "names=list()\n",
    "score=list()\n",
    "review_num=list()\n",
    "labels = list()\n",
    "links= list()\n",
    "\n",
    "\n",
    "restaurants = soup.find_all('div', class_='sc-citwmv iMkliF')\n",
    "\n",
    "for restaurant in restaurants:\n",
    "    names.append( restaurant.find('h2',class_='sc-hKgILt VendorCard__VendorTitle-sc-6qaz7-5 jSKOuL bHWLa').text)\n",
    "    links.append( restaurant.find('a').get('href'))\n",
    "    score.append(restaurant.find('span',class_='sc-hKgILt jsaCNc').text)\n",
    "    review_num.append(restaurant.find('p',class_='sc-hKgILt fYlAbO').text)\n",
    "    labels.append(restaurant.find('h3',class_='sc-hKgILt fYlAbO').text)"
   ]
  },
  {
   "cell_type": "markdown",
   "metadata": {},
   "source": [
    "# Getting restaurants information pages separately"
   ]
  },
  {
   "cell_type": "code",
   "execution_count": 8,
   "metadata": {},
   "outputs": [],
   "source": [
    "empty_list=[[]] * len(names)\n",
    "restaurants={'restaurant':names,'score':score,'review_num':review_num,'label':labels,'address':empty_list.copy(),\n",
    "             'link':links,'page_info':empty_list.copy() ,'rating':empty_list.copy(),'leat_shap':empty_list.copy(),\n",
    "             'comment_number':empty_list.copy(),'comment_scores':empty_list.copy()}\n",
    "\n",
    "menu= pd.DataFrame(columns=['restaurant','category','food','price'])"
   ]
  },
  {
   "cell_type": "code",
   "execution_count": 9,
   "metadata": {},
   "outputs": [],
   "source": [
    "def dig(counter):\n",
    "    print(f'try for {names[counter]}')\n",
    "    options.add_argument(f'user-agent={custom_user_agent}')\n",
    "    driver = webdriver.Chrome(service=Service(ChromeDriverManager().install()), options=options)\n",
    "\n",
    "    try:\n",
    "       \n",
    "        driver.get('https://snappfood.ir'+links[counter])\n",
    "        wait = WebDriverWait(driver, 10)\n",
    "\n",
    "        button = wait.until(EC.element_to_be_clickable((By.CLASS_NAME, 'hMDcUg')))\n",
    "        ActionChains(driver).move_to_element(button).click(button).perform()\n",
    "\n",
    "\n",
    "        page_source = driver.page_source\n",
    "        soup= BeautifulSoup(page_source)\n",
    "        container = soup.find('section', class_='CategorySections__Container-sc-ls8sfa-3 ccHEix')\n",
    "\n",
    "        for i in container:\n",
    "            if i.find('p').text != 'پر‌طرفدارها':\n",
    "                    category= (i.find('p').text)\n",
    "                    category_foods= i.find_all('h2','sc-hKgILt esHHju')\n",
    "                    category_prices= i.find_all('span','sc-hKgILt hxREoh')\n",
    "                    \n",
    "\n",
    "                    for food, price in zip(category_foods, category_prices): \n",
    "                            data={'restaurant':names[counter],'category':category,'food':food.text,'price':price.text}\n",
    "                            menu.loc[len(menu)] = data\n",
    "\n",
    "\n",
    "        button = wait.until(EC.element_to_be_clickable((By.CLASS_NAME, 'hUpWbm')))\n",
    "        ActionChains(driver).move_to_element(button).click(button).perform()\n",
    "\n",
    "        \n",
    "        wait.until(EC.presence_of_element_located((By.CSS_SELECTOR, '#modal-backdrop')))\n",
    "        new_content=wait.until(EC.presence_of_element_located((By.CLASS_NAME, 'VendorDetail__ShiftCard-sc-1nr3673-0')))\n",
    "\n",
    "        \n",
    "\n",
    "        soup= BeautifulSoup(new_content.get_attribute('innerHTML'))\n",
    "        \n",
    "        restaurants['rating'][counter]= soup.find_all('div',class_=['sc-dlfnbm Scores__RateBar-sc-q0gltu-3','fBrhOL', 'dbSYdh'],type=True)\n",
    "        restaurants['leat_shap'][counter]= soup.find('span',class_='sc-hKgILt hxREoh').text\n",
    "        restaurants['address'][counter]= soup.find('p',class_='sc-hKgILt cnaQBH').text\n",
    "        restaurants['comment_number'][counter]= soup.find_all('span',class_='sc-hKgILt jsaCNc')[1].text\n",
    "        restaurants['comment_scores'][counter]= [i.text for i in soup.find_all('p',class_='sc-hKgILt Item__Rate-sc-1k0s5ty-6 hmsjTi jFBLxL')]\n",
    "        \n",
    "        driver.quit()\n",
    "        print('it was successful !')\n",
    "\n",
    "    except Exception as e:\n",
    "        print('An error occurred, retying again ...')\n",
    "        driver.quit()\n",
    "        dig(counter)\n"
   ]
  },
  {
   "cell_type": "code",
   "execution_count": null,
   "metadata": {},
   "outputs": [],
   "source": [
    "for i in range(len(names)):\n",
    "    dig(i)"
   ]
  },
  {
   "cell_type": "markdown",
   "metadata": {},
   "source": [
    "# Store collected data"
   ]
  },
  {
   "cell_type": "code",
   "execution_count": 102,
   "metadata": {},
   "outputs": [
    {
     "data": {
      "text/html": [
       "<div>\n",
       "<style scoped>\n",
       "    .dataframe tbody tr th:only-of-type {\n",
       "        vertical-align: middle;\n",
       "    }\n",
       "\n",
       "    .dataframe tbody tr th {\n",
       "        vertical-align: top;\n",
       "    }\n",
       "\n",
       "    .dataframe thead th {\n",
       "        text-align: right;\n",
       "    }\n",
       "</style>\n",
       "<table border=\"1\" class=\"dataframe\">\n",
       "  <thead>\n",
       "    <tr style=\"text-align: right;\">\n",
       "      <th></th>\n",
       "      <th>restaurant</th>\n",
       "      <th>score</th>\n",
       "      <th>review_num</th>\n",
       "      <th>label</th>\n",
       "      <th>address</th>\n",
       "      <th>link</th>\n",
       "      <th>page_info</th>\n",
       "      <th>rating</th>\n",
       "      <th>leat_shap</th>\n",
       "      <th>comment_number</th>\n",
       "      <th>comment_scores</th>\n",
       "    </tr>\n",
       "  </thead>\n",
       "  <tbody>\n",
       "    <tr>\n",
       "      <th>3</th>\n",
       "      <td>فست فود زرین مشرق زمین</td>\n",
       "      <td>۴.۱</td>\n",
       "      <td>(۷۱۴ امتیاز)</td>\n",
       "      <td>فست فود، سوخاری، نوشیدنی</td>\n",
       "      <td>خیابان امام خمینی، نبش کوچه ۹، فست فود زرین مش...</td>\n",
       "      <td>/restaurant/menu/%D9%81%D8%B3%D8%AA_%D9%81%D9%...</td>\n",
       "      <td>[]</td>\n",
       "      <td>[[], [], [], [], []]</td>\n",
       "      <td>۴۵,۰۰۰ تومان</td>\n",
       "      <td>۵۸</td>\n",
       "      <td>[۲, ۴, ۵, ۳, ۴, ۵, ۵, ۳, ۵]</td>\n",
       "    </tr>\n",
       "  </tbody>\n",
       "</table>\n",
       "</div>"
      ],
      "text/plain": [
       "               restaurant score    review_num                     label  \\\n",
       "3  فست فود زرین مشرق زمین   ۴.۱  (۷۱۴ امتیاز)  فست فود، سوخاری، نوشیدنی   \n",
       "\n",
       "                                             address  \\\n",
       "3  خیابان امام خمینی، نبش کوچه ۹، فست فود زرین مش...   \n",
       "\n",
       "                                                link page_info  \\\n",
       "3  /restaurant/menu/%D9%81%D8%B3%D8%AA_%D9%81%D9%...        []   \n",
       "\n",
       "                 rating      leat_shap comment_number  \\\n",
       "3  [[], [], [], [], []]   ۴۵,۰۰۰ تومان             ۵۸   \n",
       "\n",
       "                comment_scores  \n",
       "3  [۲, ۴, ۵, ۳, ۴, ۵, ۵, ۳, ۵]  "
      ]
     },
     "execution_count": 102,
     "metadata": {},
     "output_type": "execute_result"
    }
   ],
   "source": [
    "df=pd.DataFrame(restaurants)\n",
    "df.sample()"
   ]
  },
  {
   "cell_type": "code",
   "execution_count": 103,
   "metadata": {},
   "outputs": [
    {
     "data": {
      "text/html": [
       "<div>\n",
       "<style scoped>\n",
       "    .dataframe tbody tr th:only-of-type {\n",
       "        vertical-align: middle;\n",
       "    }\n",
       "\n",
       "    .dataframe tbody tr th {\n",
       "        vertical-align: top;\n",
       "    }\n",
       "\n",
       "    .dataframe thead th {\n",
       "        text-align: right;\n",
       "    }\n",
       "</style>\n",
       "<table border=\"1\" class=\"dataframe\">\n",
       "  <thead>\n",
       "    <tr style=\"text-align: right;\">\n",
       "      <th></th>\n",
       "      <th>restaurant</th>\n",
       "      <th>category</th>\n",
       "      <th>food</th>\n",
       "      <th>price</th>\n",
       "    </tr>\n",
       "  </thead>\n",
       "  <tbody>\n",
       "    <tr>\n",
       "      <th>570</th>\n",
       "      <td>فست فود کنج گلستان</td>\n",
       "      <td>برگر</td>\n",
       "      <td>ماشروم برگر</td>\n",
       "      <td>۱۹۵,۰۰۰ تومان</td>\n",
       "    </tr>\n",
       "  </tbody>\n",
       "</table>\n",
       "</div>"
      ],
      "text/plain": [
       "             restaurant category          food           price\n",
       "570  فست فود کنج گلستان     برگر  ماشروم برگر    ۱۹۵,۰۰۰ تومان"
      ]
     },
     "execution_count": 103,
     "metadata": {},
     "output_type": "execute_result"
    }
   ],
   "source": [
    "menu.sample(1)"
   ]
  },
  {
   "cell_type": "code",
   "execution_count": null,
   "metadata": {},
   "outputs": [],
   "source": [
    "df.to_csv('./raw data.csv')\n",
    "menu.to_csv('./menu.csv')"
   ]
  }
 ],
 "metadata": {
  "kernelspec": {
   "display_name": "base",
   "language": "python",
   "name": "python3"
  },
  "language_info": {
   "codemirror_mode": {
    "name": "ipython",
    "version": 3
   },
   "file_extension": ".py",
   "mimetype": "text/x-python",
   "name": "python",
   "nbconvert_exporter": "python",
   "pygments_lexer": "ipython3",
   "version": "3.11.5"
  },
  "polyglot_notebook": {
   "kernelInfo": {
    "defaultKernelName": "csharp",
    "items": [
     {
      "aliases": [],
      "name": "csharp"
     }
    ]
   }
  }
 },
 "nbformat": 4,
 "nbformat_minor": 2
}
